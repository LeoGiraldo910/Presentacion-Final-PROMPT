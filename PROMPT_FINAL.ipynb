{
  "nbformat": 4,
  "nbformat_minor": 0,
  "metadata": {
    "colab": {
      "provenance": []
    },
    "kernelspec": {
      "name": "python3",
      "display_name": "Python 3"
    },
    "language_info": {
      "name": "python"
    }
  },
  "cells": [
    {
      "cell_type": "code",
      "execution_count": 1,
      "metadata": {
        "colab": {
          "base_uri": "https://localhost:8080/"
        },
        "id": "MIla59KC3Us2",
        "outputId": "539534da-e9cf-4947-a04f-cb90d913b5c8"
      },
      "outputs": [
        {
          "output_type": "stream",
          "name": "stdout",
          "text": [
            "Collecting transformers\n",
            "  Downloading transformers-4.35.0-py3-none-any.whl (7.9 MB)\n",
            "\u001b[2K     \u001b[90m━━━━━━━━━━━━━━━━━━━━━━━━━━━━━━━━━━━━━━━━\u001b[0m \u001b[32m7.9/7.9 MB\u001b[0m \u001b[31m57.9 MB/s\u001b[0m eta \u001b[36m0:00:00\u001b[0m\n",
            "\u001b[?25hRequirement already satisfied: filelock in /usr/local/lib/python3.10/dist-packages (from transformers) (3.13.1)\n",
            "Collecting huggingface-hub<1.0,>=0.16.4 (from transformers)\n",
            "  Downloading huggingface_hub-0.19.0-py3-none-any.whl (311 kB)\n",
            "\u001b[2K     \u001b[90m━━━━━━━━━━━━━━━━━━━━━━━━━━━━━━━━━━━━━━━━\u001b[0m \u001b[32m311.2/311.2 kB\u001b[0m \u001b[31m31.5 MB/s\u001b[0m eta \u001b[36m0:00:00\u001b[0m\n",
            "\u001b[?25hRequirement already satisfied: numpy>=1.17 in /usr/local/lib/python3.10/dist-packages (from transformers) (1.23.5)\n",
            "Requirement already satisfied: packaging>=20.0 in /usr/local/lib/python3.10/dist-packages (from transformers) (23.2)\n",
            "Requirement already satisfied: pyyaml>=5.1 in /usr/local/lib/python3.10/dist-packages (from transformers) (6.0.1)\n",
            "Requirement already satisfied: regex!=2019.12.17 in /usr/local/lib/python3.10/dist-packages (from transformers) (2023.6.3)\n",
            "Requirement already satisfied: requests in /usr/local/lib/python3.10/dist-packages (from transformers) (2.31.0)\n",
            "Collecting tokenizers<0.15,>=0.14 (from transformers)\n",
            "  Downloading tokenizers-0.14.1-cp310-cp310-manylinux_2_17_x86_64.manylinux2014_x86_64.whl (3.8 MB)\n",
            "\u001b[2K     \u001b[90m━━━━━━━━━━━━━━━━━━━━━━━━━━━━━━━━━━━━━━━━\u001b[0m \u001b[32m3.8/3.8 MB\u001b[0m \u001b[31m91.7 MB/s\u001b[0m eta \u001b[36m0:00:00\u001b[0m\n",
            "\u001b[?25hCollecting safetensors>=0.3.1 (from transformers)\n",
            "  Downloading safetensors-0.4.0-cp310-cp310-manylinux_2_17_x86_64.manylinux2014_x86_64.whl (1.3 MB)\n",
            "\u001b[2K     \u001b[90m━━━━━━━━━━━━━━━━━━━━━━━━━━━━━━━━━━━━━━━━\u001b[0m \u001b[32m1.3/1.3 MB\u001b[0m \u001b[31m48.3 MB/s\u001b[0m eta \u001b[36m0:00:00\u001b[0m\n",
            "\u001b[?25hRequirement already satisfied: tqdm>=4.27 in /usr/local/lib/python3.10/dist-packages (from transformers) (4.66.1)\n",
            "Requirement already satisfied: fsspec>=2023.5.0 in /usr/local/lib/python3.10/dist-packages (from huggingface-hub<1.0,>=0.16.4->transformers) (2023.6.0)\n",
            "Requirement already satisfied: typing-extensions>=3.7.4.3 in /usr/local/lib/python3.10/dist-packages (from huggingface-hub<1.0,>=0.16.4->transformers) (4.5.0)\n",
            "Collecting huggingface-hub<1.0,>=0.16.4 (from transformers)\n",
            "  Downloading huggingface_hub-0.17.3-py3-none-any.whl (295 kB)\n",
            "\u001b[2K     \u001b[90m━━━━━━━━━━━━━━━━━━━━━━━━━━━━━━━━━━━━━━━━\u001b[0m \u001b[32m295.0/295.0 kB\u001b[0m \u001b[31m27.8 MB/s\u001b[0m eta \u001b[36m0:00:00\u001b[0m\n",
            "\u001b[?25hRequirement already satisfied: charset-normalizer<4,>=2 in /usr/local/lib/python3.10/dist-packages (from requests->transformers) (3.3.2)\n",
            "Requirement already satisfied: idna<4,>=2.5 in /usr/local/lib/python3.10/dist-packages (from requests->transformers) (3.4)\n",
            "Requirement already satisfied: urllib3<3,>=1.21.1 in /usr/local/lib/python3.10/dist-packages (from requests->transformers) (2.0.7)\n",
            "Requirement already satisfied: certifi>=2017.4.17 in /usr/local/lib/python3.10/dist-packages (from requests->transformers) (2023.7.22)\n",
            "Installing collected packages: safetensors, huggingface-hub, tokenizers, transformers\n",
            "Successfully installed huggingface-hub-0.17.3 safetensors-0.4.0 tokenizers-0.14.1 transformers-4.35.0\n"
          ]
        }
      ],
      "source": [
        "pip install transformers\n"
      ]
    },
    {
      "cell_type": "code",
      "source": [
        "def responder_pregunta_no_frecuente(pregunta):\n",
        "    palabras_clave = [\"activar\",\"servicios\", \"plan de datos\", \"planes disponibles\", \"Qué planes hay\", \"planes\", \"pagar\", \"pago\", \"factura\",\"pierdo\", \"pérdida\", \"robo\",\"robaron\",\"perdí mi telefono\", \"roaming\",\"configuración\",\"servicios roaming\", \"saldo\",\"Consumo\",\"datos\",\"datos utilizados\"]\n",
        "\n",
        "    for palabra_clave in palabras_clave:\n",
        "        if palabra_clave in pregunta:\n",
        "            if palabra_clave in [\"activar\", \"plan de datos\"]:\n",
        "                return \"Puedes activar tu plan de datos llamando al servicio de atención al cliente al 1234 o visitando nuestro sitio web.\"\n",
        "            elif palabra_clave in [\"planes\", \"planes disponibles\", \"Qué planes hay\",\"servicios\"]:\n",
        "                return \"Ofrecemos una variedad de planes que se adaptan a tus necesidades. Puedes consultarlos en nuestro sitio web.\"\n",
        "            elif palabra_clave in [\"pagar\", \"pago\", \"factura\"]:\n",
        "                return \"Puedes pagar tu factura en línea a través de nuestro portal de pagos o en cualquiera de nuestras tiendas físicas.\"\n",
        "            elif palabra_clave in [\"pierdo\", \"pérdida\", \"robo\",\"robaron\",\"perdí mi telefono\"]:\n",
        "                return \"En caso de pérdida o robo, contacta inmediatamente a nuestro servicio al cliente para bloquear el dispositivo y obtener un reemplazo si es necesario.\"\n",
        "            elif palabra_clave in [\"roaming\",\"configuración\",\"servicios roaming\"]:\n",
        "                return \"La configuración de roaming está disponible a través de la sección de ajustes en tu dispositivo. Sin embargo, te recomendamos contactar a nuestro servicio al cliente para asistencia detallada.\"\n",
        "            elif palabra_clave in [\"saldo\",\"Consumo\",\"datos\",\"datos utilizados\"]:\n",
        "                return \"Puedes consultar tu saldo y consumo de datos a través de nuestra app móvil, marcando *#123# o visitando nuestra página web e ingresando a tu cuenta personal.\"\n",
        "\n",
        "\n",
        "    return \"Lo siento, no tengo información detallada sobre esa pregunta en este momento. ¿Puedo ayudarte con algo más?\"\n",
        "\n",
        "# Función para cargar las preguntas frecuentes y respuestas\n",
        "def cargar_preguntas_frecuentes():\n",
        "    faq = {\n",
        "        \"¿Cómo activo mi plan de datos?\": \"Puedes activar tu plan de datos llamando al servicio de atención al cliente al 1234 o visitando nuestro sitio web.\",\n",
        "        \"¿Cuáles son los planes disponibles?\": \"Ofrecemos una variedad de planes que se adaptan a tus necesidades. Puedes consultarlos en nuestro sitio web.\",\n",
        "        \"¿Cómo puedo pagar mi factura?\": \"Puedes pagar tu factura en línea a través de nuestro portal de pagos o en cualquiera de nuestras tiendas físicas.\",\n",
        "        \"¿Qué debo hacer si pierdo mi teléfono?\": \"En caso de pérdida o robo, contacta inmediatamente a nuestro servicio al cliente para bloquear el dispositivo y obtener un reemplazo si es necesario.\",\n",
        "        \"¿Cómo configuro mi teléfono para servicios de roaming?\": \"La configuración de roaming está disponible a través de la sección de ajustes en tu dispositivo. Sin embargo, te recomendamos contactar a nuestro servicio al cliente para asistencia detallada.\",\n",
        "        \"¿Cómo verifico mi saldo y consumo de datos?\": \"Puedes consultar tu saldo y consumo de datos a través de nuestra app móvil, marcando *#123# o visitando nuestra página web e ingresando a tu cuenta personal.\"\n",
        "    }\n",
        "    return faq\n",
        "\n",
        "# Cargar las preguntas frecuentes y respuestas\n",
        "preguntas_frecuentes = cargar_preguntas_frecuentes()\n",
        "\n",
        "# Loop principal para interactuar con el chatbot\n",
        "while True:\n",
        "    entrada_usuario = input(\"Usuario: \")\n",
        "\n",
        "    if entrada_usuario.lower() == \"salir\":\n",
        "        print(\"Chatbot: Adiós. Hasta luego.\")\n",
        "        break\n",
        "\n",
        "    # Intentar encontrar una respuesta en las preguntas frecuentes\n",
        "    respuesta = preguntas_frecuentes.get(entrada_usuario, None)\n",
        "\n",
        "    # Si la respuesta no está en las preguntas frecuentes, intentar responder parcialmente\n",
        "    if respuesta is None:\n",
        "        respuesta = responder_pregunta_no_frecuente(entrada_usuario)\n",
        "\n",
        "    print(\"Chatbot:\", respuesta)\n",
        "\n",
        "\n"
      ],
      "metadata": {
        "colab": {
          "base_uri": "https://localhost:8080/"
        },
        "id": "3sRT3WGw3Xrq",
        "outputId": "abded984-4937-4f91-d8e9-5aafc619c751"
      },
      "execution_count": 10,
      "outputs": [
        {
          "output_type": "stream",
          "name": "stdout",
          "text": [
            "Usuario: ¿Cómo activo mi plan de datos?\n",
            "Chatbot: Puedes activar tu plan de datos llamando al servicio de atención al cliente al 1234 o visitando nuestro sitio web.\n",
            "Usuario: Cómo pago mi factura\n",
            "Chatbot: Puedes pagar tu factura en línea a través de nuestro portal de pagos o en cualquiera de nuestras tiendas físicas.\n",
            "Usuario: Me robaron mi telefono, ¿Qué puedo hacer?\n",
            "Chatbot: En caso de pérdida o robo, contacta inmediatamente a nuestro servicio al cliente para bloquear el dispositivo y obtener un reemplazo si es necesario.\n",
            "Usuario: ¿Cuánto es mi saldo?\n",
            "Chatbot: Puedes consultar tu saldo y consumo de datos a través de nuestra app móvil, marcando *#123# o visitando nuestra página web e ingresando a tu cuenta personal.\n",
            "Usuario: salir\n",
            "Chatbot: Adiós. Hasta luego.\n"
          ]
        }
      ]
    }
  ]
}